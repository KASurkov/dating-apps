{
 "cells": [
  {
   "cell_type": "code",
   "execution_count": 1,
   "metadata": {},
   "outputs": [],
   "source": [
    "import random\n",
    "import numpy as np\n",
    "from scipy import stats"
   ]
  },
  {
   "cell_type": "code",
   "execution_count": 2,
   "metadata": {},
   "outputs": [],
   "source": [
    "class Profile():\n",
    "    '''\n",
    "    Profile object to capture all the links created between profiles by likes\n",
    "    '''\n",
    "\n",
    "    def __init__(self, profile_id):\n",
    "        self.profile_id = profile_id\n",
    "        self.likes_given_to = set() # set of profiles who received likes from current profile\n",
    "        self.likes_received_from = set() # set of profiles who liked current profile\n",
    "        self.matches = set()\n",
    "        self.sex = 'X' # will be defined on the like distribution stage\n",
    "\n",
    "    def find_matches(self):\n",
    "        '''\n",
    "        find likes by intersecting the ones who were liked with ones who liked\n",
    "        '''\n",
    "        self.matches = self.likes_given_to & self.likes_received_from\n",
    "\n",
    "    def statistics(self):\n",
    "        '''\n",
    "        calculate amount of received likes and amount of likes for this profile\n",
    "        '''\n",
    "        return len(self.likes_received_from), len(self.matches)\n",
    "\n",
    "    def introduce(self):\n",
    "        '''\n",
    "        pretty representation of a profile info\n",
    "        '''\n",
    "        print(f'I\\'m {self.sex} my id is {self.profile_id}')\n",
    "        print('I like:')\n",
    "        print(*map(lambda x: x.sex + '_' + str(x.profile_id), self.likes_given_to), sep=', ')\n",
    "        print('I was liked by:')\n",
    "        print(*map(lambda x: x.sex + '_' + str(x.profile_id), self.likes_received_from), sep=', ')\n",
    "        print('I matched with:')\n",
    "        print(*map(lambda x: x.sex + '_' + str(x.profile_id), self.matches), sep=', ')\n",
    "        print(f'In total I received {self.statistics()[0]} likes and {self.statistics()[1]} of those matched')"
   ]
  },
  {
   "cell_type": "code",
   "execution_count": 3,
   "metadata": {},
   "outputs": [],
   "source": [
    "def distribute_likes(population, amount_of_F=500, amount_of_swipes=100, F_to_M_prob = 0.25, M_to_F_prob = 0.25):\n",
    "    '''\n",
    "    distribute likes to random profiles of opposite sex\n",
    "    '''\n",
    "    for profile in population:\n",
    "        if profile.profile_id <= amount_of_F:\n",
    "            profile.sex = 'F'\n",
    "            profile.likes_given_to = set(random.sample(population[amount_of_F + 1 :], k=int(amount_of_swipes * F_to_M_prob)))\n",
    "        else:\n",
    "            profile.sex = 'M'\n",
    "            profile.likes_given_to = set(random.sample(population[: amount_of_F + 1], k=int(amount_of_swipes * M_to_F_prob)))"
   ]
  },
  {
   "cell_type": "code",
   "execution_count": 4,
   "metadata": {},
   "outputs": [],
   "source": [
    "def receive_likes(population):\n",
    "    for profile in population:\n",
    "        for liked_profile in profile.likes_given_to:\n",
    "            liked_profile.likes_received_from.add(profile)"
   ]
  },
  {
   "cell_type": "code",
   "execution_count": 5,
   "metadata": {},
   "outputs": [],
   "source": [
    "def central_tendencies(population):\n",
    "    for sex in ('F', 'M'):\n",
    "        print(f'Average amount of likes and matches per {sex} profile')\n",
    "        print(np.average(np.array([*map(Profile.statistics, filter(lambda x: x.sex == sex, population))]), axis=0))\n",
    "        print(f'Mode of likes of matches per {sex} profile')\n",
    "        print(stats.mode(np.array([*map(Profile.statistics, filter(lambda x: x.sex == sex, population))]), axis=0))\n",
    "        print()"
   ]
  },
  {
   "cell_type": "code",
   "execution_count": 6,
   "metadata": {},
   "outputs": [],
   "source": [
    "POPULATION_SIZE = 1000\n",
    "LAST_F_ID = 500 # amount of F in population, all the people left are M\n",
    "PROB_OF_F_TO_PICK_M = 0.25 # probaility of F to like M\n",
    "PROB_OF_M_TO_PICK_F = 0.25 # probaility of M to like F\n",
    "AMOUNT_OF_SWIPES = 100"
   ]
  },
  {
   "cell_type": "code",
   "execution_count": 7,
   "metadata": {},
   "outputs": [],
   "source": [
    "profiles = [Profile(_) for _ in range(1, POPULATION_SIZE + 1)]"
   ]
  },
  {
   "cell_type": "code",
   "execution_count": 8,
   "metadata": {},
   "outputs": [],
   "source": [
    "distribute_likes(profiles, \n",
    "                 amount_of_F=LAST_F_ID, \n",
    "                 amount_of_swipes=AMOUNT_OF_SWIPES, \n",
    "                 F_to_M_prob=PROB_OF_F_TO_PICK_M, \n",
    "                 M_to_F_prob=PROB_OF_M_TO_PICK_F\n",
    "                 )\n",
    "receive_likes(profiles)\n",
    "for profile in profiles:\n",
    "    profile.find_matches()"
   ]
  },
  {
   "cell_type": "code",
   "execution_count": 9,
   "metadata": {},
   "outputs": [
    {
     "name": "stdout",
     "output_type": "stream",
     "text": [
      "I'm F my id is 1\n",
      "I like:\n",
      "M_832, M_747, M_876, M_756, M_714, M_885, M_588, M_637, M_680, M_937, M_686, M_814, M_947, M_734, M_524, M_610, M_910, M_825, M_741, M_615, M_871, M_830, M_661, M_788, M_958\n",
      "I was liked by:\n",
      "M_832, M_918, M_791, M_793, M_625, M_753, M_973, M_718, M_551, M_849, M_596, M_724, M_725, M_726, M_771, M_687, M_689, M_818, M_991, M_655, M_528, M_869, M_784, M_912, M_957, M_874\n",
      "I matched with:\n",
      "M_832\n",
      "In total I received 26 likes and 1 of those matched\n"
     ]
    }
   ],
   "source": [
    "profiles[0].introduce()"
   ]
  },
  {
   "cell_type": "code",
   "execution_count": 10,
   "metadata": {},
   "outputs": [
    {
     "name": "stdout",
     "output_type": "stream",
     "text": [
      "I'm M my id is 1000\n",
      "I like:\n",
      "F_152, F_324, F_283, F_199, F_115, F_414, F_372, F_41, F_209, F_422, F_47, F_471, F_217, F_133, F_388, F_221, F_93, F_307, F_348, F_94, F_98, F_271, F_190, F_488, F_191\n",
      "I was liked by:\n",
      "F_492, F_240, F_283, F_72, F_498, F_116, F_119, F_37, F_120, F_206, F_418, F_164, F_125, F_83, F_427, F_174, F_304, F_92, F_307, F_225, F_228, F_444, F_191, F_25, F_320\n",
      "I matched with:\n",
      "F_283, F_307, F_191\n",
      "In total I received 25 likes and 3 of those matched\n"
     ]
    }
   ],
   "source": [
    "profiles[999].introduce()"
   ]
  },
  {
   "cell_type": "code",
   "execution_count": 11,
   "metadata": {},
   "outputs": [
    {
     "name": "stdout",
     "output_type": "stream",
     "text": [
      "Average amount of likes and matches per F profile\n",
      "[24.954  1.152]\n",
      "Mode of likes of matches per F profile\n",
      "ModeResult(mode=array([26,  1], dtype=int64), count=array([ 49, 179], dtype=int64))\n",
      "\n",
      "Average amount of likes and matches per M profile\n",
      "[25.046  1.152]\n",
      "Mode of likes of matches per M profile\n",
      "ModeResult(mode=array([25,  1], dtype=int64), count=array([ 45, 182], dtype=int64))\n",
      "\n"
     ]
    }
   ],
   "source": [
    "central_tendencies(profiles)"
   ]
  },
  {
   "cell_type": "code",
   "execution_count": 12,
   "metadata": {},
   "outputs": [],
   "source": [
    "POPULATION_SIZE = 1000\n",
    "LAST_F_ID = 333 # amount of F in population, all the people left are M\n",
    "PROB_OF_F_TO_PICK_M = 0.25 # probaility of F to like M\n",
    "PROB_OF_M_TO_PICK_F = 0.25 # probaility of M to like F\n",
    "AMOUNT_OF_SWIPES = 100"
   ]
  },
  {
   "cell_type": "code",
   "execution_count": 13,
   "metadata": {},
   "outputs": [],
   "source": [
    "profiles = [Profile(_) for _ in range(1, POPULATION_SIZE + 1)]"
   ]
  },
  {
   "cell_type": "code",
   "execution_count": 14,
   "metadata": {},
   "outputs": [],
   "source": [
    "distribute_likes(profiles, \n",
    "                 amount_of_F=LAST_F_ID, \n",
    "                 amount_of_swipes=AMOUNT_OF_SWIPES, \n",
    "                 F_to_M_prob=PROB_OF_F_TO_PICK_M, \n",
    "                 M_to_F_prob=PROB_OF_M_TO_PICK_F\n",
    "                 )\n",
    "receive_likes(profiles)\n",
    "for profile in profiles:\n",
    "    profile.find_matches()"
   ]
  },
  {
   "cell_type": "code",
   "execution_count": 15,
   "metadata": {},
   "outputs": [
    {
     "name": "stdout",
     "output_type": "stream",
     "text": [
      "I'm F my id is 1\n",
      "I like:\n",
      "M_716, M_887, M_590, M_633, M_806, M_807, M_681, M_471, M_898, M_985, M_945, M_689, M_862, M_565, M_822, M_399, M_998, M_616, M_618, M_704, M_365, M_791, M_750, M_921, M_453\n",
      "I was liked by:\n",
      "M_970, M_417, M_930, M_717, M_888, M_973, M_889, M_337, M_338, M_509, M_678, M_722, M_765, M_344, M_472, M_771, M_942, M_432, M_730, M_561, M_986, M_391, M_605, M_860, M_649, M_861, M_821, M_524, M_864, M_907, M_992, M_866, M_356, M_399, M_527, M_825, M_615, M_913, M_871, M_617, M_448, M_703, M_918, M_880, M_881, M_968, M_755, M_544\n",
      "I matched with:\n",
      "M_399\n",
      "In total I received 48 likes and 1 of those matched\n"
     ]
    }
   ],
   "source": [
    "profiles[0].introduce()"
   ]
  },
  {
   "cell_type": "code",
   "execution_count": 16,
   "metadata": {},
   "outputs": [
    {
     "name": "stdout",
     "output_type": "stream",
     "text": [
      "I'm M my id is 1000\n",
      "I like:\n",
      "F_120, F_163, F_166, F_297, F_298, F_85, F_129, F_87, F_91, F_49, F_183, F_226, F_141, F_143, F_101, F_144, F_273, F_190, F_63, F_149, F_279, F_194, F_21, F_111, F_242\n",
      "I was liked by:\n",
      "F_312, F_333, F_79, F_91, F_70, F_177, F_181, F_115, F_190, F_52, F_298, F_117, F_32, F_289, F_44\n",
      "I matched with:\n",
      "F_298, F_91, F_190\n",
      "In total I received 15 likes and 3 of those matched\n"
     ]
    }
   ],
   "source": [
    "profiles[999].introduce()"
   ]
  },
  {
   "cell_type": "code",
   "execution_count": 17,
   "metadata": {},
   "outputs": [
    {
     "name": "stdout",
     "output_type": "stream",
     "text": [
      "Average amount of likes and matches per F profile\n",
      "[49.91291291  1.85285285]\n",
      "Mode of likes of matches per F profile\n",
      "ModeResult(mode=array([51,  1], dtype=int64), count=array([23, 98], dtype=int64))\n",
      "\n",
      "Average amount of likes and matches per M profile\n",
      "[12.56221889  0.92503748]\n",
      "Mode of likes of matches per M profile\n",
      "ModeResult(mode=array([11,  0], dtype=int64), count=array([ 82, 266], dtype=int64))\n",
      "\n"
     ]
    }
   ],
   "source": [
    "central_tendencies(profiles)"
   ]
  },
  {
   "cell_type": "code",
   "execution_count": 18,
   "metadata": {},
   "outputs": [],
   "source": [
    "POPULATION_SIZE = 1000\n",
    "LAST_F_ID = 333 # amount of F in population, all the people left are M\n",
    "PROB_OF_F_TO_PICK_M = 0.14 # probaility of F to like M\n",
    "PROB_OF_M_TO_PICK_F = 0.46 # probaility of M to like F\n",
    "AMOUNT_OF_SWIPES = 100"
   ]
  },
  {
   "cell_type": "code",
   "execution_count": 19,
   "metadata": {},
   "outputs": [],
   "source": [
    "profiles = [Profile(_) for _ in range(1, POPULATION_SIZE + 1)]"
   ]
  },
  {
   "cell_type": "code",
   "execution_count": 20,
   "metadata": {},
   "outputs": [],
   "source": [
    "distribute_likes(profiles, \n",
    "                 amount_of_F=LAST_F_ID, \n",
    "                 amount_of_swipes=AMOUNT_OF_SWIPES, \n",
    "                 F_to_M_prob=PROB_OF_F_TO_PICK_M, \n",
    "                 M_to_F_prob=PROB_OF_M_TO_PICK_F\n",
    "                 )\n",
    "receive_likes(profiles)\n",
    "for profile in profiles:\n",
    "    profile.find_matches()"
   ]
  },
  {
   "cell_type": "code",
   "execution_count": 21,
   "metadata": {},
   "outputs": [
    {
     "name": "stdout",
     "output_type": "stream",
     "text": [
      "I'm F my id is 1\n",
      "I like:\n",
      "M_854, M_356, M_591, M_623, M_485, M_666, M_346, M_520, M_467, M_510, M_999, M_852, M_491, M_864\n",
      "I was liked by:\n",
      "M_844, M_334, M_845, M_507, M_847, M_510, M_511, M_682, M_513, M_855, M_686, M_858, M_692, M_523, M_865, M_866, M_527, M_867, M_529, M_871, M_701, M_534, M_364, M_535, M_538, M_878, M_369, M_370, M_710, M_543, M_714, M_715, M_718, M_385, M_725, M_557, M_387, M_391, M_733, M_394, M_734, M_905, M_907, M_909, M_399, M_402, M_576, M_916, M_406, M_917, M_409, M_411, M_413, M_924, M_755, M_927, M_928, M_418, M_930, M_423, M_594, M_936, M_766, M_597, M_768, M_944, M_435, M_947, M_952, M_445, M_617, M_619, M_620, M_622, M_792, M_454, M_462, M_974, M_804, M_975, M_465, M_978, M_642, M_817, M_649, M_989, M_650, M_822, M_654, M_996, M_999, M_491, M_833, M_665, M_835, M_668, M_838\n",
      "I matched with:\n",
      "M_491, M_999, M_510\n",
      "In total I received 97 likes and 3 of those matched\n"
     ]
    }
   ],
   "source": [
    "profiles[0].introduce()"
   ]
  },
  {
   "cell_type": "code",
   "execution_count": 22,
   "metadata": {},
   "outputs": [
    {
     "name": "stdout",
     "output_type": "stream",
     "text": [
      "I'm M my id is 1000\n",
      "I like:\n",
      "F_35, F_292, F_79, M_334, F_37, F_295, F_298, F_299, F_86, F_214, F_5, F_88, F_302, F_260, F_175, F_92, F_203, F_221, F_136, F_6, F_181, F_224, F_311, F_269, F_270, F_142, F_14, F_228, F_205, F_274, F_189, F_234, F_106, F_193, F_65, F_279, F_67, F_323, F_69, F_199, F_115, F_158, F_75, F_247, F_290, F_77\n",
      "I was liked by:\n",
      "F_142, F_6, F_307, F_169, F_170, F_288, F_87\n",
      "I matched with:\n",
      "F_142, F_6\n",
      "In total I received 7 likes and 2 of those matched\n"
     ]
    }
   ],
   "source": [
    "profiles[999].introduce()"
   ]
  },
  {
   "cell_type": "code",
   "execution_count": 23,
   "metadata": {},
   "outputs": [
    {
     "name": "stdout",
     "output_type": "stream",
     "text": [
      "Average amount of likes and matches per F profile\n",
      "[91.84984985  1.93993994]\n",
      "Mode of likes of matches per F profile\n",
      "ModeResult(mode=array([93,  2], dtype=int64), count=array([ 21, 109], dtype=int64))\n",
      "\n",
      "Average amount of likes and matches per M profile\n",
      "[7.13343328 0.96851574]\n",
      "Mode of likes of matches per M profile\n",
      "ModeResult(mode=array([7, 0], dtype=int64), count=array([100, 254], dtype=int64))\n",
      "\n"
     ]
    }
   ],
   "source": [
    "central_tendencies(profiles)"
   ]
  }
 ],
 "metadata": {
  "kernelspec": {
   "display_name": "base",
   "language": "python",
   "name": "python3"
  },
  "language_info": {
   "codemirror_mode": {
    "name": "ipython",
    "version": 3
   },
   "file_extension": ".py",
   "mimetype": "text/x-python",
   "name": "python",
   "nbconvert_exporter": "python",
   "pygments_lexer": "ipython3",
   "version": "3.12.3"
  }
 },
 "nbformat": 4,
 "nbformat_minor": 2
}
